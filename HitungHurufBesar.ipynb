{
 "cells": [
  {
   "cell_type": "code",
   "execution_count": 1,
   "id": "323946b1-e9cf-4926-8f3d-9cd77c02c77d",
   "metadata": {},
   "outputs": [],
   "source": [
    "def hitung_huruf_besar(teks):\n",
    "    jumlah_huruf_besar = 0\n",
    "    for karakter in teks:\n",
    "        if karakter.isupper():\n",
    "            jumlah_huruf_besar += 1\n",
    "    return jumlah_huruf_besar"
   ]
  }
 ],
 "metadata": {
  "kernelspec": {
   "display_name": "Python 3 (ipykernel)",
   "language": "python",
   "name": "python3"
  },
  "language_info": {
   "codemirror_mode": {
    "name": "ipython",
    "version": 3
   },
   "file_extension": ".py",
   "mimetype": "text/x-python",
   "name": "python",
   "nbconvert_exporter": "python",
   "pygments_lexer": "ipython3",
   "version": "3.11.7"
  }
 },
 "nbformat": 4,
 "nbformat_minor": 5
}
